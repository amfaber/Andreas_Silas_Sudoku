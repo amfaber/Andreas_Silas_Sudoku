{
 "cells": [
  {
   "cell_type": "code",
   "execution_count": 1,
   "metadata": {},
   "outputs": [],
   "source": [
    "import numpy as np\n",
    "n = 3\n",
    "ezsudoku=np.array([[6, 8, 0, 2, 0, 0, 1, 0, 0],\n",
    "       [9, 0, 0, 6, 8, 7, 0, 0, 0],\n",
    "       [0, 2, 0, 9, 0, 0, 0, 6, 8],\n",
    "       [0, 0, 0, 0, 9, 0, 4, 0, 3],\n",
    "       [3, 0, 9, 0, 0, 6, 0, 5, 1],\n",
    "       [0, 0, 0, 3, 0, 5, 9, 2, 0],\n",
    "       [0, 9, 8, 1, 0, 0, 7, 0, 4],\n",
    "       [1, 0, 2, 4, 7, 0, 6, 0, 0],\n",
    "       [7, 0, 4, 5, 0, 8, 0, 0, 0]])\n",
    "ezsudoku_sol = np.array(\n",
    "[[6, 8, 3, 2, 5, 4, 1, 9, 7],\n",
    "[9, 1, 5, 6, 8, 7, 3, 4, 2],\n",
    "[4, 2, 7, 9, 1, 3, 5, 6, 8],\n",
    "[2, 5, 6, 8, 9, 1, 4, 7, 3],\n",
    "[3, 4, 9, 7, 2, 6, 8, 5, 1],\n",
    "[8, 7, 1, 3, 4, 5, 9, 2, 6],\n",
    "[5, 9, 8, 1, 6, 2, 7, 3, 4],\n",
    "[1, 3, 2, 4, 7, 9, 6, 8, 5],\n",
    "[7, 6, 4, 5, 3, 8, 2, 1, 9]])"
   ]
  },
  {
   "cell_type": "code",
   "execution_count": 34,
   "metadata": {},
   "outputs": [],
   "source": [
    "def convert_to_sparse(onehot):\n",
    "    idx = np.where(onehot)\n",
    "    out = np.zeros((n**2, n**2), dtype = int)\n",
    "    out[idx[:2]] = idx[2] + 1\n",
    "    return out\n",
    "def solver(partial_sudoku):\n",
    "    n = int(np.sqrt(len(partial_sudoku)))\n",
    "    sol = np.zeros((n**2, n**2, n**2, 2), dtype = int)\n",
    "    done = sol[:, :, :, 1]\n",
    "    in_progress = sol[:, :, :, 0]\n",
    "\n",
    "    indices = tuple(np.meshgrid(np.arange(n**2), np.arange(n**2), indexing=\"ij\"))\n",
    "    roll_transform = lambda i, j: (i//n*n+j//n, i%n*n+j%n)\n",
    "    roller = roll_transform(*indices)\n",
    "    # roller = indices[0]//n*n+indices[1]//n, indices[0]%n*n+indices[1]%n\n",
    "    transpose = indices[::-1]\n",
    "    where_initial_onehot = np.where(partial_sudoku != 0)\n",
    "    where_initial_onehot = tuple([*where_initial_onehot, partial_sudoku[where_initial_onehot]-1])\n",
    "    done[where_initial_onehot] = 1\n",
    "    idx = np.where((done.sum(axis = 0, keepdims = True) + done.sum(axis = 1, keepdims = True) + done.sum(axis = 2, keepdims = True) +\n",
    "                    done[roller].sum(axis = 1, keepdims = True).repeat(n**2, axis = 1)[roller]) == 0)\n",
    "    in_progress[idx] = 1\n",
    "\n",
    "    def global_declare_done():\n",
    "        nonlocal in_progress\n",
    "        # global in_progress\n",
    "        if done.sum() == n**4:\n",
    "            # print(\"DONE!\")\n",
    "            return\n",
    "        \n",
    "        n_possible_per_cell = in_progress.sum(axis = 2, keepdims = True)\n",
    "        coordinates = np.where((n_possible_per_cell == 1) & in_progress)\n",
    "        cells_to_update = coordinates[:2]\n",
    "        numbers_to_update = coordinates[2]\n",
    "\n",
    "        if len(coordinates[0]) > 0:\n",
    "        # if True:\n",
    "            in_progress[coordinates] = 0\n",
    "\n",
    "            in_progress[:, cells_to_update[1], numbers_to_update] = 0\n",
    "            in_progress[cells_to_update[0], :, numbers_to_update] = 0\n",
    "            rolled_cells_to_update = roll_transform(*cells_to_update)\n",
    "            in_progress = in_progress[roller]\n",
    "            in_progress[rolled_cells_to_update[0], :, numbers_to_update] = 0\n",
    "            in_progress = in_progress[roller]\n",
    "            done[coordinates] = 1\n",
    "            global_declare_done()\n",
    "    \n",
    "    global_declare_done()\n",
    "\n",
    "    return convert_to_sparse(done)\n",
    "\n",
    "\n"
   ]
  },
  {
   "cell_type": "code",
   "execution_count": 35,
   "metadata": {},
   "outputs": [
    {
     "name": "stdout",
     "output_type": "stream",
     "text": [
      "589 µs ± 8.33 µs per loop (mean ± std. dev. of 7 runs, 1000 loops each)\n"
     ]
    }
   ],
   "source": [
    "%%timeit\n",
    "solver(ezsudoku)"
   ]
  },
  {
   "cell_type": "code",
   "execution_count": 33,
   "metadata": {},
   "outputs": [
    {
     "data": {
      "text/plain": [
       "array([[6, 8, 0, 2, 0, 0, 1, 0, 0],\n",
       "       [9, 0, 0, 6, 8, 7, 0, 0, 0],\n",
       "       [0, 2, 0, 9, 0, 0, 0, 6, 8],\n",
       "       [0, 0, 0, 0, 9, 0, 4, 0, 3],\n",
       "       [3, 0, 9, 0, 0, 6, 0, 5, 1],\n",
       "       [0, 0, 0, 3, 0, 5, 9, 2, 0],\n",
       "       [0, 9, 8, 1, 0, 0, 7, 0, 4],\n",
       "       [1, 0, 2, 4, 7, 0, 6, 0, 0],\n",
       "       [7, 0, 4, 5, 0, 8, 0, 0, 0]])"
      ]
     },
     "execution_count": 33,
     "metadata": {},
     "output_type": "execute_result"
    }
   ],
   "source": [
    "ezsudoku"
   ]
  },
  {
   "cell_type": "code",
   "execution_count": null,
   "metadata": {},
   "outputs": [],
   "source": []
  }
 ],
 "metadata": {
  "interpreter": {
   "hash": "3bfa3747a641b4cd29e392cea2a3f1e35de6283d194270a6bee5cd74c0951b53"
  },
  "kernelspec": {
   "display_name": "Python 3.9.7 ('base')",
   "language": "python",
   "name": "python3"
  },
  "language_info": {
   "codemirror_mode": {
    "name": "ipython",
    "version": 3
   },
   "file_extension": ".py",
   "mimetype": "text/x-python",
   "name": "python",
   "nbconvert_exporter": "python",
   "pygments_lexer": "ipython3",
   "version": "3.9.7"
  },
  "orig_nbformat": 4
 },
 "nbformat": 4,
 "nbformat_minor": 2
}
