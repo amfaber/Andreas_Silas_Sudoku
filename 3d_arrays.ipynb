{
 "cells": [
  {
   "cell_type": "code",
   "execution_count": 101,
   "metadata": {},
   "outputs": [],
   "source": [
    "import numpy as np\n",
    "n = 3\n",
    "ezsudoku=np.array([[6, 8, 0, 2, 0, 0, 1, 0, 0],\n",
    "       [9, 0, 0, 6, 8, 7, 0, 0, 0],\n",
    "       [0, 2, 0, 9, 0, 0, 0, 6, 8],\n",
    "       [0, 0, 0, 0, 9, 0, 4, 0, 3],\n",
    "       [3, 0, 9, 0, 0, 6, 0, 5, 1],\n",
    "       [0, 0, 0, 3, 0, 5, 9, 2, 0],\n",
    "       [0, 9, 8, 1, 0, 0, 7, 0, 4],\n",
    "       [1, 0, 2, 4, 7, 0, 6, 0, 0],\n",
    "       [7, 0, 4, 5, 0, 8, 0, 0, 0]])\n",
    "ezsudoku_sol = np.array(\n",
    "[[6, 8, 3, 2, 5, 4, 1, 9, 7],\n",
    "[9, 1, 5, 6, 8, 7, 3, 4, 2],\n",
    "[4, 2, 7, 9, 1, 3, 5, 6, 8],\n",
    "[2, 5, 6, 8, 9, 1, 4, 7, 3],\n",
    "[3, 4, 9, 7, 2, 6, 8, 5, 1],\n",
    "[8, 7, 1, 3, 4, 5, 9, 2, 6],\n",
    "[5, 9, 8, 1, 6, 2, 7, 3, 4],\n",
    "[1, 3, 2, 4, 7, 9, 6, 8, 5],\n",
    "[7, 6, 4, 5, 3, 8, 2, 1, 9]])"
   ]
  },
  {
   "cell_type": "code",
   "execution_count": 102,
   "metadata": {},
   "outputs": [
    {
     "data": {
      "text/plain": [
       "array([[6, 8, 0, 2, 0, 0, 1, 0, 0],\n",
       "       [9, 0, 0, 6, 8, 7, 0, 0, 0],\n",
       "       [0, 2, 0, 9, 0, 0, 0, 6, 8],\n",
       "       [0, 0, 0, 0, 9, 0, 4, 0, 3],\n",
       "       [3, 0, 9, 0, 0, 6, 0, 5, 1],\n",
       "       [0, 0, 0, 3, 0, 5, 9, 2, 0],\n",
       "       [0, 9, 8, 1, 0, 0, 7, 0, 4],\n",
       "       [1, 0, 2, 4, 7, 0, 6, 0, 0],\n",
       "       [7, 0, 4, 5, 0, 8, 0, 0, 0]])"
      ]
     },
     "execution_count": 102,
     "metadata": {},
     "output_type": "execute_result"
    }
   ],
   "source": [
    "np.array(eval(s.replace(\" \", \", \").replace(\"]\\n\", \"],\\n\")))"
   ]
  },
  {
   "cell_type": "code",
   "execution_count": 145,
   "metadata": {},
   "outputs": [],
   "source": [
    "def convert_to_sparse(onehot):\n",
    "    idx = np.where(onehot)\n",
    "    out = np.zeros((n**2, n**2), dtype = int)\n",
    "    out[idx[:2]] = idx[2] + 1\n",
    "    return out\n",
    "\n",
    "def solver(partial_sudoku):\n",
    "    n = int(np.sqrt(len(partial_sudoku)))\n",
    "    sol = np.zeros((n**2, n**2, n**2, 2), dtype = int)\n",
    "    done = sol[:, :, :, 1]\n",
    "    in_progress = sol[:, :, :, 0]\n",
    "\n",
    "    indices = tuple(np.meshgrid(np.arange(n**2), np.arange(n**2), indexing=\"ij\"))\n",
    "    roll_transform = lambda i, j: (i//n*n+j//n, i%n*n+j%n)\n",
    "    roller = roll_transform(*indices)\n",
    "    # roller = indices[0]//n*n+indices[1]//n, indices[0]%n*n+indices[1]%n\n",
    "    transpose = indices[::-1]\n",
    "    where_initial_onehot = np.where(partial_sudoku != 0)\n",
    "    where_initial_onehot = tuple([*where_initial_onehot, partial_sudoku[where_initial_onehot]-1])\n",
    "    done[where_initial_onehot] = 1\n",
    "    idx = np.where((done.sum(axis = 0, keepdims = True) + done.sum(axis = 1, keepdims = True) + done.sum(axis = 2, keepdims = True) +\n",
    "                    done[roller].sum(axis = 1, keepdims = True).repeat(n**2, axis = 1)[roller]) == 0)\n",
    "    in_progress[idx] = 1\n",
    "\n",
    "    def global_declare_done():\n",
    "        nonlocal in_progress\n",
    "        if done.sum() == n**4:\n",
    "            # print(\"DONE!\")\n",
    "            return\n",
    "        n_possible_per_cell = in_progress.sum(axis = 2)\n",
    "        cells_to_update = np.where(n_possible_per_cell == 1)\n",
    "        numbers_to_update = np.where(in_progress[cells_to_update] == 1)[1]\n",
    "        final_coordinates = tuple([*cells_to_update, numbers_to_update])\n",
    "\n",
    "        if len(final_coordinates[0]) > 0:\n",
    "        # if True:\n",
    "            in_progress[final_coordinates] = 0\n",
    "\n",
    "            in_progress[:, cells_to_update[1], numbers_to_update] = 0\n",
    "            in_progress[cells_to_update[0], :, numbers_to_update] = 0\n",
    "            rolled_cells_to_update = roll_transform(*cells_to_update)\n",
    "            in_progress = in_progress[roller]\n",
    "            in_progress[rolled_cells_to_update[0], :, numbers_to_update] = 0\n",
    "            in_progress = in_progress[roller]\n",
    "            done[final_coordinates] = 1\n",
    "            global_declare_done()\n",
    "    global_declare_done()\n",
    "    return convert_to_sparse(done)\n",
    "\n",
    "\n"
   ]
  },
  {
   "cell_type": "code",
   "execution_count": 146,
   "metadata": {},
   "outputs": [
    {
     "name": "stdout",
     "output_type": "stream",
     "text": [
      "801 µs ± 12.1 µs per loop (mean ± std. dev. of 7 runs, 1,000 loops each)\n"
     ]
    }
   ],
   "source": [
    "%%timeit\n",
    "solver(ezsudoku)"
   ]
  },
  {
   "cell_type": "code",
   "execution_count": 123,
   "metadata": {},
   "outputs": [
    {
     "data": {
      "text/plain": [
       "81"
      ]
     },
     "execution_count": 123,
     "metadata": {},
     "output_type": "execute_result"
    }
   ],
   "source": [
    "n**4"
   ]
  },
  {
   "cell_type": "code",
   "execution_count": 126,
   "metadata": {},
   "outputs": [
    {
     "name": "stdout",
     "output_type": "stream",
     "text": [
      "DONE!\n"
     ]
    },
    {
     "data": {
      "text/plain": [
       "81"
      ]
     },
     "execution_count": 126,
     "metadata": {},
     "output_type": "execute_result"
    }
   ],
   "source": [
    "global_declare_done()\n",
    "done.sum()"
   ]
  },
  {
   "cell_type": "code",
   "execution_count": 127,
   "metadata": {},
   "outputs": [
    {
     "data": {
      "text/plain": [
       "array([[6, 8, 3, 2, 5, 4, 1, 9, 7],\n",
       "       [9, 1, 5, 6, 8, 7, 3, 4, 2],\n",
       "       [4, 2, 7, 9, 1, 3, 5, 6, 8],\n",
       "       [2, 5, 6, 8, 9, 1, 4, 7, 3],\n",
       "       [3, 4, 9, 7, 2, 6, 8, 5, 1],\n",
       "       [8, 7, 1, 3, 4, 5, 9, 2, 6],\n",
       "       [5, 9, 8, 1, 6, 2, 7, 3, 4],\n",
       "       [1, 3, 2, 4, 7, 9, 6, 8, 5],\n",
       "       [7, 6, 4, 5, 3, 8, 2, 1, 9]])"
      ]
     },
     "execution_count": 127,
     "metadata": {},
     "output_type": "execute_result"
    }
   ],
   "source": [
    "convert_to_sparse(done)"
   ]
  },
  {
   "cell_type": "code",
   "execution_count": 128,
   "metadata": {},
   "outputs": [
    {
     "data": {
      "text/plain": [
       "array([[ True,  True,  True,  True,  True,  True,  True,  True,  True],\n",
       "       [ True,  True,  True,  True,  True,  True,  True,  True,  True],\n",
       "       [ True,  True,  True,  True,  True,  True,  True,  True,  True],\n",
       "       [ True,  True,  True,  True,  True,  True,  True,  True,  True],\n",
       "       [ True,  True,  True,  True,  True,  True,  True,  True,  True],\n",
       "       [ True,  True,  True,  True,  True,  True,  True,  True,  True],\n",
       "       [ True,  True,  True,  True,  True,  True,  True,  True,  True],\n",
       "       [ True,  True,  True,  True,  True,  True,  True,  True,  True],\n",
       "       [ True,  True,  True,  True,  True,  True,  True,  True,  True]])"
      ]
     },
     "execution_count": 128,
     "metadata": {},
     "output_type": "execute_result"
    }
   ],
   "source": [
    "convert_to_sparse(done) == ezsudoku_sol"
   ]
  },
  {
   "cell_type": "code",
   "execution_count": null,
   "metadata": {},
   "outputs": [],
   "source": []
  },
  {
   "cell_type": "code",
   "execution_count": 55,
   "metadata": {},
   "outputs": [
    {
     "data": {
      "text/plain": [
       "65"
      ]
     },
     "execution_count": 55,
     "metadata": {},
     "output_type": "execute_result"
    }
   ],
   "source": [
    "done.sum()"
   ]
  },
  {
   "cell_type": "code",
   "execution_count": 56,
   "metadata": {},
   "outputs": [
    {
     "data": {
      "text/plain": [
       "array([[0, 0, 0, 0, 0, 0, 0, 1, 1],\n",
       "       [0, 0, 0, 1, 0, 0, 0, 0, 0],\n",
       "       [0, 0, 0, 0, 1, 0, 0, 0, 0],\n",
       "       [0, 0, 1, 0, 0, 0, 0, 0, 0],\n",
       "       [1, 0, 0, 0, 0, 0, 0, 0, 0],\n",
       "       [0, 0, 0, 0, 0, 0, 1, 0, 0],\n",
       "       [0, 1, 0, 0, 0, 0, 0, 0, 0],\n",
       "       [0, 0, 0, 0, 0, 1, 0, 0, 0],\n",
       "       [0, 0, 0, 0, 0, 0, 0, 0, 0]])"
      ]
     },
     "execution_count": 56,
     "metadata": {},
     "output_type": "execute_result"
    }
   ],
   "source": [
    "done[:, :, 8]"
   ]
  },
  {
   "cell_type": "code",
   "execution_count": 21,
   "metadata": {},
   "outputs": [
    {
     "data": {
      "text/plain": [
       "array([[6, 8, 0, 2, 0, 0, 1, 0, 0],\n",
       "       [0, 2, 0, 9, 0, 0, 0, 6, 8],\n",
       "       [0, 0, 0, 0, 9, 0, 4, 0, 3],\n",
       "       [3, 0, 9, 0, 0, 6, 0, 5, 1],\n",
       "       [9, 0, 0, 6, 8, 7, 0, 0, 0],\n",
       "       [0, 0, 0, 3, 0, 5, 9, 2, 0],\n",
       "       [0, 9, 8, 1, 0, 0, 7, 0, 4],\n",
       "       [1, 0, 2, 4, 7, 0, 6, 0, 0],\n",
       "       [7, 0, 4, 5, 0, 8, 0, 0, 0]])"
      ]
     },
     "execution_count": 21,
     "metadata": {},
     "output_type": "execute_result"
    }
   ],
   "source": [
    "ezsudoku"
   ]
  },
  {
   "cell_type": "code",
   "execution_count": 57,
   "metadata": {},
   "outputs": [],
   "source": [
    "idx = np.where(done)"
   ]
  },
  {
   "cell_type": "code",
   "execution_count": 58,
   "metadata": {},
   "outputs": [],
   "source": [
    "final = np.zeros((n**2, n**2))"
   ]
  },
  {
   "cell_type": "code",
   "execution_count": 59,
   "metadata": {},
   "outputs": [],
   "source": [
    "final[idx[:2]] = idx[2] + 1"
   ]
  },
  {
   "cell_type": "code",
   "execution_count": 63,
   "metadata": {},
   "outputs": [
    {
     "data": {
      "text/plain": [
       "array([[6., 8., 0., 2., 5., 4., 1., 9., 9.],\n",
       "       [4., 2., 0., 9., 3., 3., 5., 6., 8.],\n",
       "       [5., 0., 0., 8., 9., 1., 4., 7., 3.],\n",
       "       [3., 0., 9., 0., 0., 6., 8., 5., 1.],\n",
       "       [9., 0., 0., 6., 8., 7., 3., 4., 0.],\n",
       "       [8., 0., 0., 3., 0., 5., 9., 2., 0.],\n",
       "       [5., 9., 8., 1., 6., 2., 7., 3., 4.],\n",
       "       [1., 3., 2., 4., 7., 9., 6., 8., 5.],\n",
       "       [7., 6., 4., 5., 0., 8., 2., 1., 0.]])"
      ]
     },
     "execution_count": 63,
     "metadata": {},
     "output_type": "execute_result"
    }
   ],
   "source": [
    "final"
   ]
  },
  {
   "cell_type": "code",
   "execution_count": 65,
   "metadata": {},
   "outputs": [
    {
     "data": {
      "text/plain": [
       "array([[6, 8, 3, 2, 5, 4, 1, 9, 7],\n",
       "       [9, 1, 5, 6, 8, 7, 3, 4, 2],\n",
       "       [4, 2, 7, 9, 1, 3, 5, 6, 8],\n",
       "       [2, 5, 6, 8, 9, 1, 4, 7, 3],\n",
       "       [3, 4, 9, 7, 2, 6, 8, 5, 1],\n",
       "       [8, 7, 1, 3, 4, 5, 9, 2, 6],\n",
       "       [5, 9, 8, 1, 6, 2, 7, 3, 4],\n",
       "       [1, 3, 2, 4, 7, 9, 6, 8, 5],\n",
       "       [7, 6, 4, 5, 3, 8, 2, 1, 9]])"
      ]
     },
     "execution_count": 65,
     "metadata": {},
     "output_type": "execute_result"
    }
   ],
   "source": [
    "ezsudoku_sol"
   ]
  },
  {
   "cell_type": "code",
   "execution_count": 64,
   "metadata": {},
   "outputs": [
    {
     "data": {
      "text/plain": [
       "array([[ True,  True, False,  True,  True,  True,  True,  True, False],\n",
       "       [False, False, False, False, False, False, False, False, False],\n",
       "       [False, False, False, False, False, False, False, False, False],\n",
       "       [False, False, False, False, False, False, False, False, False],\n",
       "       [False, False, False, False, False, False, False, False, False],\n",
       "       [ True, False, False,  True, False,  True,  True,  True, False],\n",
       "       [ True,  True,  True,  True,  True,  True,  True,  True,  True],\n",
       "       [ True,  True,  True,  True,  True,  True,  True,  True,  True],\n",
       "       [ True,  True,  True,  True, False,  True,  True,  True, False]])"
      ]
     },
     "execution_count": 64,
     "metadata": {},
     "output_type": "execute_result"
    }
   ],
   "source": [
    "(final == ezsudoku_sol)"
   ]
  },
  {
   "cell_type": "code",
   "execution_count": 11,
   "metadata": {},
   "outputs": [
    {
     "data": {
      "text/plain": [
       "array([[1, 1, 1, 1, 1, 1, 1, 1, 0],\n",
       "       [1, 1, 0, 1, 1, 1, 0, 1, 1],\n",
       "       [1, 1, 1, 0, 1, 1, 1, 0, 1],\n",
       "       [1, 1, 1, 0, 1, 1, 1, 1, 1],\n",
       "       [1, 1, 1, 1, 1, 1, 0, 0, 0],\n",
       "       [1, 1, 1, 1, 0, 1, 1, 1, 1],\n",
       "       [0, 1, 1, 1, 1, 1, 1, 0, 1],\n",
       "       [1, 1, 1, 1, 1, 1, 1, 1, 1],\n",
       "       [1, 1, 1, 1, 1, 1, 0, 1, 1]])"
      ]
     },
     "execution_count": 11,
     "metadata": {},
     "output_type": "execute_result"
    }
   ],
   "source": [
    "done.sum(axis = 2)"
   ]
  },
  {
   "cell_type": "code",
   "execution_count": null,
   "metadata": {},
   "outputs": [],
   "source": []
  },
  {
   "cell_type": "code",
   "execution_count": 10,
   "metadata": {},
   "outputs": [
    {
     "data": {
      "text/plain": [
       "array([[0, 0, 0, 0, 0, 0, 0, 0, 0],\n",
       "       [0, 0, 0, 0, 0, 0, 0, 0, 0],\n",
       "       [0, 0, 0, 0, 0, 0, 0, 0, 0],\n",
       "       [0, 0, 0, 0, 0, 0, 0, 0, 0],\n",
       "       [0, 0, 0, 0, 0, 0, 0, 0, 0],\n",
       "       [0, 0, 0, 0, 0, 0, 0, 0, 0],\n",
       "       [0, 0, 0, 0, 0, 0, 0, 0, 0],\n",
       "       [0, 0, 0, 0, 0, 0, 0, 0, 0],\n",
       "       [0, 0, 0, 0, 0, 0, 0, 0, 0]])"
      ]
     },
     "execution_count": 10,
     "metadata": {},
     "output_type": "execute_result"
    }
   ],
   "source": [
    "in_progress.sum(axis = 2)"
   ]
  },
  {
   "cell_type": "code",
   "execution_count": 7,
   "metadata": {},
   "outputs": [],
   "source": [
    "global_declare_done()"
   ]
  },
  {
   "cell_type": "code",
   "execution_count": 8,
   "metadata": {},
   "outputs": [
    {
     "data": {
      "text/plain": [
       "68"
      ]
     },
     "execution_count": 8,
     "metadata": {},
     "output_type": "execute_result"
    }
   ],
   "source": [
    "done.sum()"
   ]
  },
  {
   "cell_type": "code",
   "execution_count": 106,
   "metadata": {},
   "outputs": [],
   "source": [
    "a = np.array([1,2,3])"
   ]
  },
  {
   "cell_type": "code",
   "execution_count": 108,
   "metadata": {},
   "outputs": [],
   "source": [
    "a[np.where(np.array([0,0]))] = 100"
   ]
  },
  {
   "cell_type": "code",
   "execution_count": 109,
   "metadata": {},
   "outputs": [
    {
     "data": {
      "text/plain": [
       "array([1, 2, 3])"
      ]
     },
     "execution_count": 109,
     "metadata": {},
     "output_type": "execute_result"
    }
   ],
   "source": [
    "a"
   ]
  },
  {
   "cell_type": "code",
   "execution_count": 103,
   "metadata": {},
   "outputs": [
    {
     "data": {
      "text/plain": [
       "array([3, 7, 3, 6, 2, 8, 8, 8], dtype=int64)"
      ]
     },
     "execution_count": 103,
     "metadata": {},
     "output_type": "execute_result"
    }
   ],
   "source": [
    "np.where(in_progress[np.where(in_progress.sum(axis = 2) == 1)])[1]"
   ]
  },
  {
   "cell_type": "code",
   "execution_count": 98,
   "metadata": {},
   "outputs": [
    {
     "data": {
      "text/plain": [
       "(9, 9)"
      ]
     },
     "execution_count": 98,
     "metadata": {},
     "output_type": "execute_result"
    }
   ],
   "source": [
    "in_progress.sum(axis = 2).shape"
   ]
  },
  {
   "cell_type": "code",
   "execution_count": 97,
   "metadata": {},
   "outputs": [
    {
     "data": {
      "text/plain": [
       "(array([3, 3, 5, 5, 7, 7, 8, 8], dtype=int64),\n",
       " array([1, 6, 0, 8, 5, 8, 7, 8], dtype=int64))"
      ]
     },
     "execution_count": 97,
     "metadata": {},
     "output_type": "execute_result"
    }
   ],
   "source": [
    "np.where(in_progress.sum(axis = 2) == 1)"
   ]
  },
  {
   "cell_type": "code",
   "execution_count": null,
   "metadata": {},
   "outputs": [],
   "source": []
  },
  {
   "cell_type": "code",
   "execution_count": 94,
   "metadata": {},
   "outputs": [
    {
     "data": {
      "text/plain": [
       "array([[0, 0, 2, 0, 3, 2, 0, 2, 2],\n",
       "       [2, 0, 3, 0, 4, 3, 0, 0, 0],\n",
       "       [2, 3, 3, 0, 0, 2, 0, 2, 0],\n",
       "       [0, 1, 0, 0, 2, 0, 1, 0, 0],\n",
       "       [0, 4, 3, 0, 0, 0, 0, 0, 0],\n",
       "       [1, 3, 2, 0, 3, 0, 0, 0, 1],\n",
       "       [2, 0, 0, 0, 4, 2, 0, 0, 0],\n",
       "       [0, 2, 0, 0, 0, 1, 0, 2, 1],\n",
       "       [0, 3, 0, 0, 4, 0, 0, 1, 1]])"
      ]
     },
     "execution_count": 94,
     "metadata": {},
     "output_type": "execute_result"
    }
   ],
   "source": [
    "in_progress.sum(axis = 2)"
   ]
  },
  {
   "cell_type": "code",
   "execution_count": 78,
   "metadata": {},
   "outputs": [
    {
     "data": {
      "text/plain": [
       "array([[1, 1, 0, 1, 0, 0, 1, 0, 0],\n",
       "       [0, 1, 0, 1, 0, 0, 0, 1, 1],\n",
       "       [0, 0, 0, 0, 1, 0, 1, 0, 1],\n",
       "       [1, 0, 1, 0, 0, 1, 0, 1, 1],\n",
       "       [1, 0, 0, 1, 1, 1, 0, 0, 0],\n",
       "       [0, 0, 0, 1, 0, 1, 1, 1, 0],\n",
       "       [0, 1, 1, 1, 0, 0, 1, 0, 1],\n",
       "       [1, 0, 1, 1, 1, 0, 1, 0, 0],\n",
       "       [1, 0, 1, 1, 0, 1, 0, 0, 0]])"
      ]
     },
     "execution_count": 78,
     "metadata": {},
     "output_type": "execute_result"
    }
   ],
   "source": [
    "sol[:, :, :, 1].sum(axis = 2)"
   ]
  },
  {
   "cell_type": "code",
   "execution_count": 43,
   "metadata": {},
   "outputs": [
    {
     "data": {
      "text/plain": [
       "(array([0, 0, 0, 0, 1, 1, 1, 1, 2, 2, 2, 3, 3, 3, 3, 3, 4, 4, 4, 4, 5, 5,\n",
       "        5, 5, 6, 6, 6, 6, 6, 7, 7, 7, 7, 7, 8, 8, 8, 8], dtype=int64),\n",
       " array([0, 1, 3, 6, 1, 3, 7, 8, 4, 6, 8, 0, 2, 5, 7, 8, 0, 3, 4, 5, 3, 5,\n",
       "        6, 7, 1, 2, 3, 6, 8, 0, 2, 3, 4, 6, 0, 2, 3, 5], dtype=int64))"
      ]
     },
     "execution_count": 43,
     "metadata": {},
     "output_type": "execute_result"
    }
   ],
   "source": [
    "where_initial_onehot"
   ]
  },
  {
   "cell_type": "code",
   "execution_count": 41,
   "metadata": {},
   "outputs": [
    {
     "ename": "IndexError",
     "evalue": "arrays used as indices must be of integer (or boolean) type",
     "output_type": "error",
     "traceback": [
      "\u001b[1;31m---------------------------------------------------------------------------\u001b[0m",
      "\u001b[1;31mIndexError\u001b[0m                                Traceback (most recent call last)",
      "\u001b[1;32mc:\\Users\\andre\\Google Drive\\Kattis\\Andreas_Silas_Sudoku\\3d_arrays.ipynb Cell 3'\u001b[0m in \u001b[0;36m<cell line: 1>\u001b[1;34m()\u001b[0m\n\u001b[1;32m----> <a href='vscode-notebook-cell:/c%3A/Users/andre/Google%20Drive/Kattis/Andreas_Silas_Sudoku/3d_arrays.ipynb#ch0000012?line=0'>1</a>\u001b[0m solver(partial_sudoku\u001b[39m=\u001b[39;49mezsudoku)\n",
      "\u001b[1;32mc:\\Users\\andre\\Google Drive\\Kattis\\Andreas_Silas_Sudoku\\3d_arrays.ipynb Cell 2'\u001b[0m in \u001b[0;36msolver\u001b[1;34m(partial_sudoku)\u001b[0m\n\u001b[0;32m      <a href='vscode-notebook-cell:/c%3A/Users/andre/Google%20Drive/Kattis/Andreas_Silas_Sudoku/3d_arrays.ipynb#ch0000005?line=5'>6</a>\u001b[0m transpose \u001b[39m=\u001b[39m indices[::\u001b[39m-\u001b[39m\u001b[39m1\u001b[39m]\n\u001b[0;32m      <a href='vscode-notebook-cell:/c%3A/Users/andre/Google%20Drive/Kattis/Andreas_Silas_Sudoku/3d_arrays.ipynb#ch0000005?line=6'>7</a>\u001b[0m where_initial_onehot \u001b[39m=\u001b[39m np\u001b[39m.\u001b[39mwhere(partial_sudoku \u001b[39m!=\u001b[39m \u001b[39m0\u001b[39m)\n\u001b[1;32m----> <a href='vscode-notebook-cell:/c%3A/Users/andre/Google%20Drive/Kattis/Andreas_Silas_Sudoku/3d_arrays.ipynb#ch0000005?line=7'>8</a>\u001b[0m sol[\u001b[39mtuple\u001b[39m([\u001b[39m*\u001b[39mwhere_initial_onehot, sol[where_initial_onehot]\u001b[39m-\u001b[39m\u001b[39m1\u001b[39m, np\u001b[39m.\u001b[39mones(\u001b[39mlen\u001b[39m(where_initial_onehot[\u001b[39m0\u001b[39m]))])] \u001b[39m=\u001b[39m \u001b[39m1\u001b[39m\n\u001b[0;32m      <a href='vscode-notebook-cell:/c%3A/Users/andre/Google%20Drive/Kattis/Andreas_Silas_Sudoku/3d_arrays.ipynb#ch0000005?line=8'>9</a>\u001b[0m \u001b[39mreturn\u001b[39;00m sol\n",
      "\u001b[1;31mIndexError\u001b[0m: arrays used as indices must be of integer (or boolean) type"
     ]
    }
   ],
   "source": [
    "solver(partial_sudoku=ezsudoku)"
   ]
  },
  {
   "cell_type": "code",
   "execution_count": null,
   "metadata": {},
   "outputs": [],
   "source": [
    "sol.sum(axis = 2) = np.ones((n**2, n**2))"
   ]
  },
  {
   "cell_type": "code",
   "execution_count": null,
   "metadata": {},
   "outputs": [],
   "source": []
  }
 ],
 "metadata": {
  "interpreter": {
   "hash": "369f2c481f4da34e4445cda3fffd2e751bd1c4d706f27375911949ba6bb62e1c"
  },
  "kernelspec": {
   "display_name": "Python 3.10.5 64-bit",
   "language": "python",
   "name": "python3"
  },
  "language_info": {
   "codemirror_mode": {
    "name": "ipython",
    "version": 3
   },
   "file_extension": ".py",
   "mimetype": "text/x-python",
   "name": "python",
   "nbconvert_exporter": "python",
   "pygments_lexer": "ipython3",
   "version": "3.10.5"
  },
  "orig_nbformat": 4
 },
 "nbformat": 4,
 "nbformat_minor": 2
}
