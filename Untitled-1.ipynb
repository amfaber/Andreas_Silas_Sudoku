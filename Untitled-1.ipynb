{
 "cells": [
  {
   "cell_type": "code",
   "execution_count": 4,
   "metadata": {},
   "outputs": [],
   "source": [
    "import numpy as np\n",
    "# a = np.arange(27).reshape(3, 3, -1)\n",
    "a = np.random.randint(0, 2, (9,9,9))\n",
    "\n",
    "def find_loners(a, ax):\n",
    "    a = np.moveaxis(a, ax, 1)\n",
    "    idxs = np.where(a.sum(axis = 1) == 1)\n",
    "    slc = tuple([idxs[0], slice(None), *idxs[1:]])\n",
    "    idxs2 = np.where((a[slc]==1))[1]\n",
    "    idxs2 = tuple([idxs[0], idxs2, *idxs[1:]])\n",
    "    \n",
    "    a[idxs2] = 2\n",
    "\n",
    "    a = np.moveaxis(a, 1, ax)\n",
    "    return a\n",
    "\n",
    "\n"
   ]
  },
  {
   "cell_type": "code",
   "execution_count": 103,
   "metadata": {},
   "outputs": [],
   "source": [
    "a = np.array([[1, 0], [0, 2]])\n",
    "test = np.where(a != 0)\n",
    "b = np.zeros((2,2,2))\n",
    "b[tuple([*test, a[test]-1])] = 1"
   ]
  },
  {
   "cell_type": "code",
   "execution_count": 104,
   "metadata": {},
   "outputs": [
    {
     "data": {
      "text/plain": [
       "(array([0, 1], dtype=int64), array([0, 1], dtype=int64))"
      ]
     },
     "execution_count": 104,
     "metadata": {},
     "output_type": "execute_result"
    }
   ],
   "source": [
    "np.where(b.sum(axis = 2) != 0)"
   ]
  },
  {
   "cell_type": "code",
   "execution_count": null,
   "metadata": {},
   "outputs": [],
   "source": []
  },
  {
   "cell_type": "code",
   "execution_count": 105,
   "metadata": {},
   "outputs": [
    {
     "ename": "IndexError",
     "evalue": "too many indices for array: array is 2-dimensional, but 3 were indexed",
     "output_type": "error",
     "traceback": [
      "\u001b[1;31m---------------------------------------------------------------------------\u001b[0m",
      "\u001b[1;31mIndexError\u001b[0m                                Traceback (most recent call last)",
      "\u001b[1;32mc:\\Users\\andre\\Google Drive\\Kattis\\Untitled-1.ipynb Cell 5'\u001b[0m in \u001b[0;36m<cell line: 3>\u001b[1;34m()\u001b[0m\n\u001b[0;32m      <a href='vscode-notebook-cell:/c%3A/Users/andre/Google%20Drive/Kattis/Untitled-1.ipynb#ch0000001?line=1'>2</a>\u001b[0m find_loners(a, \u001b[39m1\u001b[39m)\n\u001b[0;32m      <a href='vscode-notebook-cell:/c%3A/Users/andre/Google%20Drive/Kattis/Untitled-1.ipynb#ch0000001?line=2'>3</a>\u001b[0m \u001b[39mfor\u001b[39;00m i \u001b[39min\u001b[39;00m \u001b[39mrange\u001b[39m(\u001b[39mlen\u001b[39m(a)):\n\u001b[1;32m----> <a href='vscode-notebook-cell:/c%3A/Users/andre/Google%20Drive/Kattis/Untitled-1.ipynb#ch0000001?line=3'>4</a>\u001b[0m     \u001b[39mprint\u001b[39m(a[:, :, i])\n",
      "\u001b[1;31mIndexError\u001b[0m: too many indices for array: array is 2-dimensional, but 3 were indexed"
     ]
    }
   ],
   "source": [
    "find_loners(a, 0)\n",
    "find_loners(a, 1)\n",
    "for i in range(len(a)):\n",
    "    print(a[:, :, i])"
   ]
  },
  {
   "cell_type": "code",
   "execution_count": 92,
   "metadata": {},
   "outputs": [],
   "source": [
    "n = 2"
   ]
  },
  {
   "cell_type": "code",
   "execution_count": 106,
   "metadata": {},
   "outputs": [
    {
     "name": "stdout",
     "output_type": "stream",
     "text": [
      "[[ 0  4  8 12]\n",
      " [16 20 24 28]\n",
      " [32 36 40 44]\n",
      " [48 52 56 60]]\n",
      "[[ 1  5  9 13]\n",
      " [17 21 25 29]\n",
      " [33 37 41 45]\n",
      " [49 53 57 61]]\n",
      "[[ 2  6 10 14]\n",
      " [18 22 26 30]\n",
      " [34 38 42 46]\n",
      " [50 54 58 62]]\n",
      "[[ 3  7 11 15]\n",
      " [19 23 27 31]\n",
      " [35 39 43 47]\n",
      " [51 55 59 63]]\n"
     ]
    }
   ],
   "source": []
  },
  {
   "cell_type": "code",
   "execution_count": 109,
   "metadata": {},
   "outputs": [
    {
     "data": {
      "text/plain": [
       "(4, 1, 4)"
      ]
     },
     "execution_count": 109,
     "metadata": {},
     "output_type": "execute_result"
    }
   ],
   "source": [
    "a.sum(axis = 1, keepdims = True).shape\n"
   ]
  },
  {
   "cell_type": "code",
   "execution_count": 97,
   "metadata": {},
   "outputs": [
    {
     "data": {
      "text/plain": [
       "array([[4, 6]])"
      ]
     },
     "execution_count": 97,
     "metadata": {},
     "output_type": "execute_result"
    }
   ],
   "source": [
    "np.array([1,2]) + np.array([3,4]).reshape(1, -1)"
   ]
  },
  {
   "cell_type": "code",
   "execution_count": 100,
   "metadata": {},
   "outputs": [],
   "source": [
    "a = np.array([1,2]).reshape(2, 1)\n",
    "b = np.array([3,4]).reshape(1, -1)"
   ]
  },
  {
   "cell_type": "code",
   "execution_count": 101,
   "metadata": {},
   "outputs": [
    {
     "data": {
      "text/plain": [
       "(2, 1)"
      ]
     },
     "execution_count": 101,
     "metadata": {},
     "output_type": "execute_result"
    }
   ],
   "source": [
    "a.shape"
   ]
  },
  {
   "cell_type": "code",
   "execution_count": 102,
   "metadata": {},
   "outputs": [
    {
     "data": {
      "text/plain": [
       "(1, 2)"
      ]
     },
     "execution_count": 102,
     "metadata": {},
     "output_type": "execute_result"
    }
   ],
   "source": [
    "b.shape"
   ]
  },
  {
   "cell_type": "code",
   "execution_count": 96,
   "metadata": {},
   "outputs": [
    {
     "data": {
      "text/plain": [
       "array([[[ 24,  28,  32,  36]],\n",
       "\n",
       "       [[ 88,  92,  96, 100]],\n",
       "\n",
       "       [[152, 156, 160, 164]],\n",
       "\n",
       "       [[216, 220, 224, 228]]])"
      ]
     },
     "execution_count": 96,
     "metadata": {},
     "output_type": "execute_result"
    }
   ],
   "source": [
    "a.sum(axis = 1, keepdims=True)"
   ]
  },
  {
   "cell_type": "code",
   "execution_count": 144,
   "metadata": {},
   "outputs": [],
   "source": [
    "n = 2"
   ]
  },
  {
   "cell_type": "code",
   "execution_count": 145,
   "metadata": {},
   "outputs": [
    {
     "name": "stdout",
     "output_type": "stream",
     "text": [
      "[[ 0  4  8 12]\n",
      " [16 20 24 28]\n",
      " [32 36 40 44]\n",
      " [48 52 56 60]]\n",
      "[[ 1  5  9 13]\n",
      " [17 21 25 29]\n",
      " [33 37 41 45]\n",
      " [49 53 57 61]]\n",
      "[[ 2  6 10 14]\n",
      " [18 22 26 30]\n",
      " [34 38 42 46]\n",
      " [50 54 58 62]]\n",
      "[[ 3  7 11 15]\n",
      " [19 23 27 31]\n",
      " [35 39 43 47]\n",
      " [51 55 59 63]]\n"
     ]
    }
   ],
   "source": [
    "a = np.arange(n**6).reshape(n**2, n**2, n**2)\n",
    "for i in range(len(a)):\n",
    "    print(a[:, :, i])"
   ]
  },
  {
   "cell_type": "code",
   "execution_count": 146,
   "metadata": {},
   "outputs": [
    {
     "data": {
      "text/plain": [
       "[array([[0, 0, 0, 0],\n",
       "        [1, 1, 1, 1],\n",
       "        [2, 2, 2, 2],\n",
       "        [3, 3, 3, 3]]),\n",
       " array([[0, 1, 2, 3],\n",
       "        [0, 1, 2, 3],\n",
       "        [0, 1, 2, 3],\n",
       "        [0, 1, 2, 3]])]"
      ]
     },
     "execution_count": 146,
     "metadata": {},
     "output_type": "execute_result"
    }
   ],
   "source": [
    "np.meshgrid(np.arange(n**2), np.arange(n**2), indexing=\"ij\")"
   ]
  },
  {
   "cell_type": "code",
   "execution_count": 147,
   "metadata": {},
   "outputs": [],
   "source": [
    "inp = tuple(np.meshgrid(np.arange(n**2), np.arange(n**2), indexing=\"ij\"))"
   ]
  },
  {
   "cell_type": "code",
   "execution_count": 162,
   "metadata": {},
   "outputs": [],
   "source": [
    "roller = inp[0]//n*n+inp[1]//n, inp[0]%n*n+inp[1]%n"
   ]
  },
  {
   "cell_type": "code",
   "execution_count": 149,
   "metadata": {},
   "outputs": [],
   "source": [
    "def printa(a):\n",
    "    for i in range(a.shape[-1]):\n",
    "        print(a[:, :, i])"
   ]
  },
  {
   "cell_type": "code",
   "execution_count": 150,
   "metadata": {},
   "outputs": [
    {
     "name": "stdout",
     "output_type": "stream",
     "text": [
      "(1, 4, 4)\n"
     ]
    },
    {
     "data": {
      "text/plain": [
       "(4, 1, 4)"
      ]
     },
     "execution_count": 150,
     "metadata": {},
     "output_type": "execute_result"
    }
   ],
   "source": [
    "print(a.sum(axis = 0, keepdims = True).shape)\n",
    "a.sum(axis = 1, keepdims = True).shape"
   ]
  },
  {
   "cell_type": "code",
   "execution_count": 151,
   "metadata": {},
   "outputs": [
    {
     "data": {
      "text/plain": [
       "array([[[ 40,  44,  48,  52]],\n",
       "\n",
       "       [[ 72,  76,  80,  84]],\n",
       "\n",
       "       [[168, 172, 176, 180]],\n",
       "\n",
       "       [[200, 204, 208, 212]]])"
      ]
     },
     "execution_count": 151,
     "metadata": {},
     "output_type": "execute_result"
    }
   ],
   "source": [
    "a[roller].sum(axis = 1, keepdims = True)"
   ]
  },
  {
   "cell_type": "code",
   "execution_count": 161,
   "metadata": {},
   "outputs": [
    {
     "name": "stdout",
     "output_type": "stream",
     "text": [
      "[ 96 112 128 144]\n",
      "[100 116 132 148]\n",
      "[104 120 136 152]\n",
      "[108 124 140 156]\n"
     ]
    }
   ],
   "source": [
    "s = a.sum(axis = 0, keepdims = True)\n",
    "for i in range(n**2):\n",
    "    print(s[0, :, i])"
   ]
  },
  {
   "cell_type": "code",
   "execution_count": null,
   "metadata": {},
   "outputs": [],
   "source": [
    "(9, 1, 9)"
   ]
  },
  {
   "cell_type": "code",
   "execution_count": 170,
   "metadata": {},
   "outputs": [
    {
     "data": {
      "text/plain": [
       "array([[[ 40,  44,  48,  52],\n",
       "        [ 40,  44,  48,  52],\n",
       "        [ 72,  76,  80,  84],\n",
       "        [ 72,  76,  80,  84]],\n",
       "\n",
       "       [[ 40,  44,  48,  52],\n",
       "        [ 40,  44,  48,  52],\n",
       "        [ 72,  76,  80,  84],\n",
       "        [ 72,  76,  80,  84]],\n",
       "\n",
       "       [[168, 172, 176, 180],\n",
       "        [168, 172, 176, 180],\n",
       "        [200, 204, 208, 212],\n",
       "        [200, 204, 208, 212]],\n",
       "\n",
       "       [[168, 172, 176, 180],\n",
       "        [168, 172, 176, 180],\n",
       "        [200, 204, 208, 212],\n",
       "        [200, 204, 208, 212]]])"
      ]
     },
     "execution_count": 170,
     "metadata": {},
     "output_type": "execute_result"
    }
   ],
   "source": [
    "np.repeat(a[roller].sum(axis = 1, keepdims = True), n**2, axis = 1)[roller]"
   ]
  },
  {
   "cell_type": "code",
   "execution_count": 171,
   "metadata": {},
   "outputs": [],
   "source": [
    "idx = np.where((a.sum(axis = 0, keepdims = True) + a.sum(axis = 1, keepdims = True) + a[roller].sum(axis = 1)) != 0)"
   ]
  },
  {
   "cell_type": "code",
   "execution_count": 172,
   "metadata": {},
   "outputs": [],
   "source": [
    "a[idx] = 1"
   ]
  },
  {
   "cell_type": "code",
   "execution_count": 142,
   "metadata": {},
   "outputs": [
    {
     "data": {
      "text/plain": [
       "array([[  0,   9,  18,  81,  90,  99, 162, 171, 180],\n",
       "       [ 27,  36,  45, 108, 117, 126, 189, 198, 207],\n",
       "       [ 54,  63,  72, 135, 144, 153, 216, 225, 234],\n",
       "       [243, 252, 261, 324, 333, 342, 405, 414, 423],\n",
       "       [270, 279, 288, 351, 360, 369, 432, 441, 450],\n",
       "       [297, 306, 315, 378, 387, 396, 459, 468, 477],\n",
       "       [486, 495, 504, 567, 576, 585, 648, 657, 666],\n",
       "       [513, 522, 531, 594, 603, 612, 675, 684, 693],\n",
       "       [540, 549, 558, 621, 630, 639, 702, 711, 720]])"
      ]
     },
     "execution_count": 142,
     "metadata": {},
     "output_type": "execute_result"
    }
   ],
   "source": [
    "a[test][:, :, 0]"
   ]
  },
  {
   "cell_type": "code",
   "execution_count": 26,
   "metadata": {},
   "outputs": [
    {
     "name": "stdout",
     "output_type": "stream",
     "text": [
      "[[ 0 16 32 48]\n",
      " [ 4 20 36 52]\n",
      " [ 8 24 40 56]\n",
      " [12 28 44 60]]\n",
      "[[ 1 17 33 49]\n",
      " [ 5 21 37 53]\n",
      " [ 9 25 41 57]\n",
      " [13 29 45 61]]\n",
      "[[ 2 18 34 50]\n",
      " [ 6 22 38 54]\n",
      " [10 26 42 58]\n",
      " [14 30 46 62]]\n",
      "[[ 3 19 35 51]\n",
      " [ 7 23 39 55]\n",
      " [11 27 43 59]\n",
      " [15 31 47 63]]\n"
     ]
    }
   ],
   "source": [
    "printa(a[inp[::-1]])"
   ]
  },
  {
   "cell_type": "code",
   "execution_count": 45,
   "metadata": {},
   "outputs": [
    {
     "data": {
      "text/plain": [
       "array([[[ True,  True,  True,  True],\n",
       "        [ True,  True,  True,  True],\n",
       "        [ True,  True,  True,  True],\n",
       "        [ True,  True,  True,  True]],\n",
       "\n",
       "       [[ True,  True,  True,  True],\n",
       "        [ True,  True,  True,  True],\n",
       "        [ True,  True,  True,  True],\n",
       "        [ True,  True,  True,  True]],\n",
       "\n",
       "       [[ True,  True,  True,  True],\n",
       "        [ True,  True,  True,  True],\n",
       "        [ True,  True,  True,  True],\n",
       "        [ True,  True,  True,  True]],\n",
       "\n",
       "       [[ True,  True,  True,  True],\n",
       "        [ True,  True,  True,  True],\n",
       "        [ True,  True,  True,  True],\n",
       "        [ True,  True,  True,  True]]])"
      ]
     },
     "execution_count": 45,
     "metadata": {},
     "output_type": "execute_result"
    }
   ],
   "source": [
    "a[inp[::-1]] == np.swapaxes(a, 0, 1)"
   ]
  },
  {
   "cell_type": "code",
   "execution_count": 33,
   "metadata": {},
   "outputs": [],
   "source": [
    "a = np.arange(n**6).reshape(n**2, n**2, n**2, order= \"F\")"
   ]
  },
  {
   "cell_type": "code",
   "execution_count": 34,
   "metadata": {},
   "outputs": [
    {
     "name": "stdout",
     "output_type": "stream",
     "text": [
      "[[ 0  4  8 12]\n",
      " [ 1  5  9 13]\n",
      " [ 2  6 10 14]\n",
      " [ 3  7 11 15]]\n",
      "[[16 20 24 28]\n",
      " [17 21 25 29]\n",
      " [18 22 26 30]\n",
      " [19 23 27 31]]\n",
      "[[32 36 40 44]\n",
      " [33 37 41 45]\n",
      " [34 38 42 46]\n",
      " [35 39 43 47]]\n",
      "[[48 52 56 60]\n",
      " [49 53 57 61]\n",
      " [50 54 58 62]\n",
      " [51 55 59 63]]\n"
     ]
    }
   ],
   "source": [
    "for i in range(a.shape[-1]):\n",
    "    print(a[:, :, i])"
   ]
  },
  {
   "cell_type": "code",
   "execution_count": 13,
   "metadata": {},
   "outputs": [
    {
     "name": "stdout",
     "output_type": "stream",
     "text": [
      "[[ 0  4  1  5]\n",
      " [ 8 12  9 13]\n",
      " [ 2  6  3  7]\n",
      " [10 14 11 15]]\n",
      "[[16 20 17 21]\n",
      " [24 28 25 29]\n",
      " [18 22 19 23]\n",
      " [26 30 27 31]]\n",
      "[[32 36 33 37]\n",
      " [40 44 41 45]\n",
      " [34 38 35 39]\n",
      " [42 46 43 47]]\n",
      "[[48 52 49 53]\n",
      " [56 60 57 61]\n",
      " [50 54 51 55]\n",
      " [58 62 59 63]]\n"
     ]
    }
   ],
   "source": [
    "for i in range(a[test].shape[-1]):\n",
    "    print(a[test][:, :, i])"
   ]
  },
  {
   "cell_type": "code",
   "execution_count": null,
   "metadata": {},
   "outputs": [],
   "source": []
  }
 ],
 "metadata": {
  "interpreter": {
   "hash": "369f2c481f4da34e4445cda3fffd2e751bd1c4d706f27375911949ba6bb62e1c"
  },
  "kernelspec": {
   "display_name": "Python 3.10.5 64-bit",
   "language": "python",
   "name": "python3"
  },
  "language_info": {
   "codemirror_mode": {
    "name": "ipython",
    "version": 3
   },
   "file_extension": ".py",
   "mimetype": "text/x-python",
   "name": "python",
   "nbconvert_exporter": "python",
   "pygments_lexer": "ipython3",
   "version": "3.10.5"
  },
  "orig_nbformat": 4
 },
 "nbformat": 4,
 "nbformat_minor": 2
}
